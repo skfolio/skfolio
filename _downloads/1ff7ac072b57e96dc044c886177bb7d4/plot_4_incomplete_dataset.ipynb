{
  "cells": [
    {
      "cell_type": "markdown",
      "metadata": {},
      "source": [
        "\n# Handling Incomplete Datasets: Inception, Expiry, and Default\n\nWhen working with large datasets over long timeframes, we commonly encounter:\n\n* **Inception**: Assets that began trading after the start of the dataset.\n* **Expiry**: Expiring assets such as bonds, options, and futures.\n* **Default**: Assets that defaulted.\n* **Voluntary Delisting**\n\nThese events create challenges for portfolio optimization and backtesting.\nA common workaround is to focus only on assets with complete datasets, excluding those\nwith later inception dates, defaults, or earlier expirations. However, this approach\neither shortens the backtesting period or reduces the number of assets, potentially\nintroducing survivorship bias.\n\nAn additional challenge arises with assets that have known expiration dates\n(e.g., options, bonds, futures). If an asset is due to expire in the next period, it\nmay be preferable to exit early, especially if it\u2019s not cash-settled.\n\nIn this tutorial, we will demonstrate how to implement all these rules in a single\n`Pipeline` that can be used with cross-validation techniques such as `WalkForward` and\nhyperparameter tuning tools like `GridSearchCV`.\n"
      ]
    },
    {
      "cell_type": "markdown",
      "metadata": {},
      "source": [
        "## Data\nLet's create price data for four hypothetical assets over 13 days:\n\n* `inception`: Asset with a later inception date.\n* `defaulted`: Asset that defaulted.\n* `expired`: Asset that expired.\n* `complete`: Asset with a complete price history.\n\nWe\u2019ll convert these prices to returns and split the dataset into 3 rebalancing\nperiods of 4 days each.\n\n"
      ]
    },
    {
      "cell_type": "code",
      "execution_count": null,
      "metadata": {
        "collapsed": false
      },
      "outputs": [],
      "source": [
        "import datetime as dt\n\nimport matplotlib.image as mpi\nimport matplotlib.pyplot as plt\nimport numpy as np\nimport pandas as pd\nfrom sklearn import set_config\nfrom sklearn.impute import SimpleImputer\nfrom sklearn.model_selection import GridSearchCV\nfrom sklearn.pipeline import Pipeline\n\nfrom skfolio.model_selection import WalkForward, cross_val_predict\nfrom skfolio.optimization import EqualWeighted\nfrom skfolio.pre_selection import SelectComplete, SelectNonExpiring\nfrom skfolio.preprocessing import prices_to_returns\n\n\ndef generate_prices(n: int) -> list[float]:\n    # Just for example purposes\n    return list(100 * np.cumprod(1 + np.random.normal(0, 0.01, n)))\n\n\nprices = pd.DataFrame(\n    {\n        \"inception\": [np.nan] * 3 + generate_prices(10),\n        \"defaulted\": generate_prices(6) + [0.0] + [np.nan] * 6,\n        \"expired\": generate_prices(10) + [np.nan] * 3,\n        \"complete\": generate_prices(13),\n    },\n    index=pd.date_range(start=\"2024-01-03\", end=\"2024-01-19\", freq=\"B\"),\n)\n\nX = prices_to_returns(prices, drop_inceptions_nan=False, fill_nan=False)\n\nimg = mpi.imread(\"../images/incomplete_dataset.png\")\nfig, ax = plt.subplots(figsize=(10, 6.327))\nax.imshow(img)\nax.axis(\"off\")\nplt.subplots_adjust(left=0, right=1, top=1, bottom=0)"
      ]
    },
    {
      "cell_type": "markdown",
      "metadata": {},
      "source": [
        "## Pipeline\nOur `Pipeline` will handle the following cases:\n\nWhen we **train** our optimization model on the first period (magenta box), we want to\nexclude the \u201cinception\u201d asset.\n\nWhen **testing** on the second period (green box), we want to capture the loss on the\n\u201cdefaulted\u201d asset (the -100% on 2024-01-11) without failing on the subsequent NaNs.\n\nThen, when we **train** on the second period, we want to include the \u201cinception\u201d\nasset, exclude the defaulted asset, and also exclude the \u201cexpired\u201d asset that will\nexpire in the next **test** period (blue box).\n\n"
      ]
    },
    {
      "cell_type": "code",
      "execution_count": null,
      "metadata": {
        "collapsed": false
      },
      "outputs": [],
      "source": [
        "set_config(transform_output=\"pandas\")\n\nmodel = Pipeline(\n    [\n        (\"select_complete_assets\", SelectComplete()),\n        (\n            \"select_non_expiring_assets\",\n            SelectNonExpiring(\n                expiration_dates={\"expired\": dt.datetime(2024, 1, 16)},\n                expiration_lookahead=pd.offsets.BusinessDay(4),\n            ),\n        ),\n        (\"zero_imputation\", SimpleImputer(strategy=\"constant\", fill_value=0)),\n        (\"optimization\", EqualWeighted()),\n    ]\n)"
      ]
    },
    {
      "cell_type": "markdown",
      "metadata": {},
      "source": [
        "The transformer `SelectComplete` handles the \"inception\" and \"defaulted\" assets,\nwhile `SelectNonExpiring` excludes assets close to expiration.\n`SimpleImputer` replaces NaNs with 0s on the \"defaulted\" asset in the test period.\n\n"
      ]
    },
    {
      "cell_type": "markdown",
      "metadata": {},
      "source": [
        "## Walk-Forward Cross-Validation\nNow, we pass this pipeline model into `cross_val_predict` using `WalkForward`:\n\n"
      ]
    },
    {
      "cell_type": "code",
      "execution_count": null,
      "metadata": {
        "collapsed": false
      },
      "outputs": [],
      "source": [
        "pred = cross_val_predict(model, X, cv=WalkForward(train_size=4, test_size=4))"
      ]
    },
    {
      "cell_type": "markdown",
      "metadata": {},
      "source": [
        "As expected, the pipeline correctly applies our rules to each period:\n\n"
      ]
    },
    {
      "cell_type": "code",
      "execution_count": null,
      "metadata": {
        "collapsed": false
      },
      "outputs": [],
      "source": [
        "df = pred.composition\ndf.columns = [\"Period 2 (green)\", \"Period 3 (blue)\"]\ndf"
      ]
    },
    {
      "cell_type": "markdown",
      "metadata": {},
      "source": [
        "And from the out-of-sample returns, we can see that the default event was captured on\n2024-01-11:\n\n"
      ]
    },
    {
      "cell_type": "code",
      "execution_count": null,
      "metadata": {
        "collapsed": false
      },
      "outputs": [],
      "source": [
        "df = pred.returns_df\ndf"
      ]
    },
    {
      "cell_type": "markdown",
      "metadata": {},
      "source": [
        "## Step-by-Step Fitting with `WalkForward`\nLet\u2019s break down the `cross_val_predict` by calling `fit` and `predict` on each\nperiod:\n\n"
      ]
    },
    {
      "cell_type": "code",
      "execution_count": null,
      "metadata": {
        "collapsed": false
      },
      "outputs": [],
      "source": [
        "print(\"Rebalancing Period 1\")\nmodel.fit(X.iloc[:4])\nportfolio = model.predict(X.iloc[4:8])\nprint(portfolio.composition)\nprint(portfolio.returns)\n\nprint(\"Rebalancing Period 2\")\nmodel.fit(X.iloc[4:8])\nportfolio = model.predict(X.iloc[8:])\nprint(portfolio.composition)\nprint(portfolio.returns)"
      ]
    },
    {
      "cell_type": "markdown",
      "metadata": {},
      "source": [
        "## Hyper-Parameter Tuning\nThe `Pipeline` model can also be passed to `GridSearchCV` to find the optimal\nhyperparameters for a specified score (by default, the out-of-sample average\nSharpe ratio). For example, we could use it to find the optimal exit time before a\nbond expires:\n\n"
      ]
    },
    {
      "cell_type": "code",
      "execution_count": null,
      "metadata": {
        "collapsed": false
      },
      "outputs": [],
      "source": [
        "grid_search = GridSearchCV(\n    estimator=model,\n    cv=WalkForward(train_size=4, test_size=4),\n    param_grid={\n        \"select_non_expiring_assets__expiration_lookahead\": [\n            pd.offsets.BusinessDay(i) for i in range(20)\n        ],\n    },\n)\ngrid_search.fit(X)\nmodel = grid_search.best_estimator_"
      ]
    }
  ],
  "metadata": {
    "kernelspec": {
      "display_name": "Python 3",
      "language": "python",
      "name": "python3"
    },
    "language_info": {
      "codemirror_mode": {
        "name": "ipython",
        "version": 3
      },
      "file_extension": ".py",
      "mimetype": "text/x-python",
      "name": "python",
      "nbconvert_exporter": "python",
      "pygments_lexer": "ipython3",
      "version": "3.10.15"
    }
  },
  "nbformat": 4,
  "nbformat_minor": 0
}